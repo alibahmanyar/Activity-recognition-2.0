{
  "cells": [
    {
      "cell_type": "markdown",
      "metadata": {
        "id": "view-in-github",
        "colab_type": "text"
      },
      "source": [
        "<a href=\"https://colab.research.google.com/github/alibahmanyar/Activity-recognition-2.0/blob/master/HW1_1_2.ipynb\" target=\"_parent\"><img src=\"https://colab.research.google.com/assets/colab-badge.svg\" alt=\"Open In Colab\"/></a>"
      ]
    },
    {
      "cell_type": "code",
      "execution_count": null,
      "metadata": {
        "colab": {
          "base_uri": "https://localhost:8080/"
        },
        "id": "Vnd3NXTKE75W",
        "outputId": "68f9403a-ee03-415b-af79-c45f8eb48e4d"
      },
      "outputs": [
        {
          "name": "stdout",
          "output_type": "stream",
          "text": [
            "Requirement already satisfied: spark-nlp==4.4.2 in /usr/local/lib/python3.10/dist-packages (4.4.2)\n",
            "Requirement already satisfied: pyspark==3.3.2 in /usr/local/lib/python3.10/dist-packages (3.3.2)\n",
            "Requirement already satisfied: py4j==0.10.9.5 in /usr/local/lib/python3.10/dist-packages (from pyspark==3.3.2) (0.10.9.5)\n"
          ]
        }
      ],
      "source": [
        "!pip install spark-nlp==4.4.2\n",
        "!pip install pyspark==3.3.2"
      ]
    },
    {
      "cell_type": "code",
      "execution_count": null,
      "metadata": {
        "colab": {
          "base_uri": "https://localhost:8080/"
        },
        "id": "xxawgf17KNlT",
        "outputId": "b7a9d86c-5815-4247-9d44-f70a3664d096"
      },
      "outputs": [
        {
          "name": "stdout",
          "output_type": "stream",
          "text": [
            "--2023-11-16 12:44:48--  https://v0.bahman.me/hw1_data.zip\n",
            "Resolving v0.bahman.me (v0.bahman.me)... 172.67.190.56, 104.21.19.213, 2606:4700:3036::ac43:be38, ...\n",
            "Connecting to v0.bahman.me (v0.bahman.me)|172.67.190.56|:443... connected.\n",
            "HTTP request sent, awaiting response... 401 Unauthorized\n",
            "Authentication selected: Basic realm=\"Who are you?\"\n",
            "Reusing existing connection to v0.bahman.me:443.\n",
            "HTTP request sent, awaiting response... 200 OK\n",
            "Length: 2725687 (2.6M) [application/zip]\n",
            "Saving to: ‘hw1_data.zip’\n",
            "\n",
            "hw1_data.zip        100%[===================>]   2.60M  2.72MB/s    in 1.0s    \n",
            "\n",
            "2023-11-16 12:44:50 (2.72 MB/s) - ‘hw1_data.zip’ saved [2725687/2725687]\n",
            "\n",
            "Archive:  hw1_data.zip\n",
            "   creating: data/\n",
            "  inflating: data/Adventures_of_Sherlock_Holmes.txt  \n",
            "  inflating: data/Alice_in_Wonderland.txt  \n",
            "  inflating: data/Jane_Eyre.txt      \n",
            "  inflating: data/JaneAusten.txt     \n",
            "  inflating: data/Dracula_bromstoker.txt  \n",
            "  inflating: data/C3.txt             \n",
            "  inflating: data/C2.txt             \n",
            "  inflating: data/C1.txt             \n",
            "Adventures_of_Sherlock_Holmes.txt  C1.txt  C3.txt\t\t   JaneAusten.txt\n",
            "Alice_in_Wonderland.txt\t\t   C2.txt  Dracula_bromstoker.txt  Jane_Eyre.txt\n"
          ]
        }
      ],
      "source": [
        "# Downloading data\n",
        "!wget -nc --user v0 --password v0v1v2v3 https://v0.bahman.me/hw1_data.zip\n",
        "!unzip -o hw1_data.zip\n",
        "!ls data"
      ]
    },
    {
      "cell_type": "code",
      "execution_count": null,
      "metadata": {
        "colab": {
          "base_uri": "https://localhost:8080/"
        },
        "id": "g8mf17SzKbIn",
        "outputId": "b560cedd-dd61-4e6d-aa67-936810b648ca"
      },
      "outputs": [
        {
          "name": "stdout",
          "output_type": "stream",
          "text": [
            "Warning::Spark Session already created, some configs may not take.\n"
          ]
        }
      ],
      "source": [
        "import sparknlp\n",
        "\n",
        "# Start Spark Session\n",
        "spark = sparknlp.start()\n",
        "\n",
        "\n",
        "# Buld pipeline\n",
        "from sparknlp.base import DocumentAssembler\n",
        "from sparknlp.annotator import SentenceDetector, UniversalSentenceEncoder, BertSentenceEmbeddings\n",
        "from pyspark.ml import Pipeline\n",
        "import pyspark.sql.functions as F\n",
        "\n",
        "documentAssembler = DocumentAssembler() \\\n",
        "    .setInputCol(\"text\") \\\n",
        "    .setOutputCol(\"document\")\n",
        "sentence = SentenceDetector() \\\n",
        "    .setInputCols([\"document\"]) \\\n",
        "    .setOutputCol(\"sentence\")\n",
        "embeddings = UniversalSentenceEncoder.pretrained() \\\n",
        "    .setInputCols([\"sentence\"]) \\\n",
        "    .setOutputCol(\"sentence_bert_embeddings\")\n",
        "pipeline = Pipeline(stages=[documentAssembler,\n",
        "                            sentence,\n",
        "                            embeddings])"
      ]
    },
    {
      "cell_type": "code",
      "execution_count": null,
      "metadata": {
        "colab": {
          "base_uri": "https://localhost:8080/"
        },
        "id": "bx03YjuZKgf2",
        "outputId": "7362e027-152d-41cf-c1a6-40ab72f6d634"
      },
      "outputs": [
        {
          "name": "stdout",
          "output_type": "stream",
          "text": [
            "+----------------------------------------------------------------------------------------------------------------------------------------------------------------------------------------------------------------------------------------------------------------------------------------------------------------------------------------------------------------------------------------------------------------+\n",
            "|                                                                                                                                                                                                                                                                                                                                                                                                            text|\n",
            "+----------------------------------------------------------------------------------------------------------------------------------------------------------------------------------------------------------------------------------------------------------------------------------------------------------------------------------------------------------------------------------------------------------------+\n",
            "|The Project Gutenberg eBook of The Adventures of Sherlock Holmes\\r\\n    \\r\\nThis ebook is for the use of anyone anywhere in the United States and\\r\\nmost other parts of the world at no cost and with almost no restrictions\\r\\nwhatsoever. You may copy it, give it away or re-use it under the terms\\r\\nof the Project Gutenberg License included with this ebook or online\\r\\nat www.gutenberg.org. If yo...|\n",
            "+----------------------------------------------------------------------------------------------------------------------------------------------------------------------------------------------------------------------------------------------------------------------------------------------------------------------------------------------------------------------------------------------------------------+\n",
            "\n"
          ]
        }
      ],
      "source": [
        "from pyspark.sql.functions import col\n",
        "text_df = spark.read.text(\"./data/Adventures_of_Sherlock_Holmes.txt\", wholetext=True)\n",
        "text_df = text_df.select(col('value').alias('text'))\n",
        "text_df.show(truncate=400)"
      ]
    },
    {
      "cell_type": "code",
      "execution_count": null,
      "metadata": {
        "colab": {
          "base_uri": "https://localhost:8080/"
        },
        "id": "IUtPJQrwLcZA",
        "outputId": "3578ae2f-7631-4627-c919-a621a1267a23"
      },
      "outputs": [
        {
          "name": "stdout",
          "output_type": "stream",
          "text": [
            "+----------------------------------------------------------------------------------------------------------------------------------------------------------------------------------------------------------------------------------------------------------------------------------------------------------------------------------------------------------------------------------------------------------------+\n",
            "|                                                                                                                                                                                                                                                                                                                                                                                                            text|\n",
            "+----------------------------------------------------------------------------------------------------------------------------------------------------------------------------------------------------------------------------------------------------------------------------------------------------------------------------------------------------------------------------------------------------------------+\n",
            "|The Project Gutenberg eBook of The Adventures of Sherlock Holmes This ebook is for the use of anyone anywhere in the United States and most other parts of the world at no cost and with almost no restrictions whatsoever. You may copy it, give it away or re-use it under the terms of the Project Gutenberg License included with this ebook or online at www.gutenberg.org. If you are not located in th...|\n",
            "+----------------------------------------------------------------------------------------------------------------------------------------------------------------------------------------------------------------------------------------------------------------------------------------------------------------------------------------------------------------------------------------------------------------+\n",
            "\n"
          ]
        }
      ],
      "source": [
        "text_df = text_df.withColumn(\"text\", F.regexp_replace(text_df.text, r'[\\r\\n]', ' '))\n",
        "text_df = text_df.withColumn(\"text\", F.regexp_replace(text_df.text, r' +', ' '))\n",
        "\n",
        "text_df.show(truncate=400)"
      ]
    },
    {
      "cell_type": "code",
      "execution_count": null,
      "metadata": {
        "colab": {
          "base_uri": "https://localhost:8080/"
        },
        "id": "Hj8dQjAkE5qH",
        "outputId": "38426445-db9d-4322-f6d4-1ff64021220a"
      },
      "outputs": [
        {
          "name": "stdout",
          "output_type": "stream",
          "text": [
            "tfhub_use download started this may take some time.\n",
            "Approximate size to download 923.7 MB\n",
            "[OK!]\n",
            "+------------------------------------------------------------------------------------------------------------------------------------------------------+------------------------------------------------------------------------------------------------------------------------------------------------------+\n",
            "|                                                                                                                                              sentence|                                                                                                                              Bert_sentence_embeddings|\n",
            "+------------------------------------------------------------------------------------------------------------------------------------------------------+------------------------------------------------------------------------------------------------------------------------------------------------------+\n",
            "|The Project Gutenberg eBook of The Adventures of Sherlock Holmes This ebook is for the use of anyone anywhere in the United States and most other p...|[0.070538245, 0.06415077, -0.009876693, 0.0048365733, 0.044444617, -0.03391787, 0.064387746, 0.050271668, 0.020533184, 0.08936615, -0.058579423, -0...|\n",
            "|  You may copy it, give it away or re-use it under the terms of the Project Gutenberg License included with this ebook or online at www.gutenberg.org.|[0.03862633, 0.033646293, -0.0076000206, -0.003353327, 0.056790125, 0.01567013, -0.017570563, 0.074868776, 3.0108867E-4, 0.07915864, -0.049716327, ...|\n",
            "|            If you are not located in the United States, you will have to check the laws of the country where you are located before using this eBook.|[0.008771098, -0.006809266, 0.003756533, -0.027336022, 0.07782846, -0.023345621, 0.10440125, 0.09824181, 0.00791099, 0.031744365, -0.04876945, 0.03...|\n",
            "|Title: The Adventures of Sherlock Holmes Author: Arthur Conan Doyle Release date: March 1, 1999 [eBook #1661] Most recently updated: October 10, 20...|[0.02766966, 0.03924281, 0.0012259999, -0.010323609, -0.055246785, -0.022536771, 0.013971608, -0.032625288, -0.061905686, 0.06367833, -0.048931997,...|\n",
            "|                                                                                                                            The Red-Headed League III.|[-0.016952202, -0.025835136, -0.08176817, 0.043059215, -0.062417433, 0.037561182, 0.025701188, 0.03475808, -0.040332552, -0.027868513, -0.066838205...|\n",
            "|                                                                                                                                A Case of Identity IV.|[-4.1576047E-4, -0.076870635, -0.06493285, 0.0271727, 0.024220845, -0.033448216, 0.004911644, -0.061147034, -0.07612219, -9.786643E-4, -0.028872024...|\n",
            "|                                                                                               The Boscombe Valley Mystery V. The Five Orange Pips VI.|[-0.070940346, -0.04009978, -0.017444827, 0.0058476445, -0.03450889, -0.03291593, -0.031033207, -0.06761515, -0.07787998, 0.028432623, 0.059435654,...|\n",
            "|                                                                                                                     The Man with the Twisted Lip VII.|[0.03111084, 0.01955877, -0.026585558, -0.003980305, -0.03295415, 0.05133827, -0.005884892, -0.026422007, -0.051779095, 0.04100355, -0.009903978, -...|\n",
            "|                                                                                                             The Adventure of the Blue Carbuncle VIII.|[-0.029806238, -0.05545761, -0.012010016, 0.01979392, 0.01869015, -0.010945949, -0.022801192, -0.06292266, -0.07165953, -0.03866169, 0.031809803, -...|\n",
            "|                                                                                                                The Adventure of the Speckled Band IX.|[-0.023154207, 0.022614028, -0.021276027, -0.010426322, -0.011367049, -0.03425459, -0.0026892775, -0.022121057, -0.07831143, 0.036933336, 0.0666527...|\n",
            "|                                                                      The Adventure of the Engineer’s Thumb X. The Adventure of the Noble Bachelor XI.|[0.03700899, 0.018392626, -0.015975302, 0.0010597152, 0.036460564, -0.05492746, -0.036352, -0.033309694, -0.04580542, -0.025883082, 0.016128656, -0...|\n",
            "|                                                                                                               The Adventure of the Beryl Coronet XII.|[-0.022223957, -0.010431998, -0.034002323, 0.035454065, 0.0031720551, -0.017491156, -0.0027455874, 0.013565625, -0.06698308, 0.039120086, -0.014560...|\n",
            "|                                          The Adventure of the Copper Beeches I. A SCANDAL IN BOHEMIA I. To Sherlock Holmes she is always _the_ woman.|[-0.0676042, 0.048913937, 0.004921243, -0.023230808, -0.06249529, -0.04223603, 0.016674666, 0.06000612, -0.020317826, 0.056208163, -0.01750976, -0....|\n",
            "|                                                                                             I have seldom heard him mention her under any other name.|[0.054104257, 0.04499551, -0.0029150136, -0.04016117, -0.06838679, 0.01330026, 0.016373932, 0.040673938, 0.036988497, -0.0010776869, 0.087683514, -...|\n",
            "|                                                                                       In his eyes she eclipses and predominates the whole of her sex.|[0.01755235, 0.05620388, -0.010802029, -0.005967502, 0.06686765, -0.0026991498, -0.0313477, 0.07627839, -0.017137052, 0.038721193, 0.0037945865, -0...|\n",
            "|                                                                                     It was not that he felt any emotion akin to love for Irene Adler.|[0.09379907, 0.039722115, -0.018997366, -0.044057284, -0.06624165, 0.029099232, 0.0011279823, 0.051502082, -0.034060508, -9.025195E-4, -0.042249758...|\n",
            "|                                             All emotions, and that one particularly, were abhorrent to his cold, precise but admirably balanced mind.|[0.047133073, 0.067965515, 0.003382155, 0.05948919, 0.05770469, -0.0384666, 0.001269066, 0.040046904, -0.041178714, 0.020338355, -0.044129312, -0.0...|\n",
            "|He was, I take it, the most perfect reasoning and observing machine that the world has seen, but as a lover he would have placed himself in a false...|[0.074304186, -0.021230826, 0.020428577, -0.021522833, 0.03204712, -0.022093304, -0.026402349, 0.053195737, 0.014081492, -0.036616825, 0.019827161,...|\n",
            "|                                                                                  He never spoke of the softer passions, save with a gibe and a sneer.|[0.06564032, 0.061923463, -0.01889587, -0.010727305, -0.046325617, -0.042906106, 0.007890838, 0.06294265, -0.032466922, 0.015020077, 0.07479432, -0...|\n",
            "|                                            They were admirable things for the observer—excellent for drawing the veil from men’s motives and actions.|[0.048527494, -0.0014594458, 0.017489126, 0.005230786, 0.038946234, -0.020691212, 0.02935156, 0.06480871, -0.006714843, 0.02966369, -0.06829639, -0...|\n",
            "+------------------------------------------------------------------------------------------------------------------------------------------------------+------------------------------------------------------------------------------------------------------------------------------------------------------+\n",
            "only showing top 20 rows\n",
            "\n"
          ]
        }
      ],
      "source": [
        "\n",
        "\n",
        "\n",
        "model = pipeline.fit(text_df)\n",
        "result_bert = model.transform(text_df)"
      ]
    },
    {
      "cell_type": "code",
      "execution_count": null,
      "metadata": {
        "colab": {
          "base_uri": "https://localhost:8080/"
        },
        "id": "EQpjUJ-uNaKP",
        "outputId": "5203268a-4a10-4089-cb2d-838ca280c3b9"
      },
      "outputs": [
        {
          "name": "stdout",
          "output_type": "stream",
          "text": [
            "root\n",
            " |-- text: string (nullable = true)\n",
            " |-- document: array (nullable = true)\n",
            " |    |-- element: struct (containsNull = true)\n",
            " |    |    |-- annotatorType: string (nullable = true)\n",
            " |    |    |-- begin: integer (nullable = false)\n",
            " |    |    |-- end: integer (nullable = false)\n",
            " |    |    |-- result: string (nullable = true)\n",
            " |    |    |-- metadata: map (nullable = true)\n",
            " |    |    |    |-- key: string\n",
            " |    |    |    |-- value: string (valueContainsNull = true)\n",
            " |    |    |-- embeddings: array (nullable = true)\n",
            " |    |    |    |-- element: float (containsNull = false)\n",
            " |-- sentence: array (nullable = true)\n",
            " |    |-- element: struct (containsNull = true)\n",
            " |    |    |-- annotatorType: string (nullable = true)\n",
            " |    |    |-- begin: integer (nullable = false)\n",
            " |    |    |-- end: integer (nullable = false)\n",
            " |    |    |-- result: string (nullable = true)\n",
            " |    |    |-- metadata: map (nullable = true)\n",
            " |    |    |    |-- key: string\n",
            " |    |    |    |-- value: string (valueContainsNull = true)\n",
            " |    |    |-- embeddings: array (nullable = true)\n",
            " |    |    |    |-- element: float (containsNull = false)\n",
            " |-- sentence_bert_embeddings: array (nullable = true)\n",
            " |    |-- element: struct (containsNull = true)\n",
            " |    |    |-- annotatorType: string (nullable = true)\n",
            " |    |    |-- begin: integer (nullable = false)\n",
            " |    |    |-- end: integer (nullable = false)\n",
            " |    |    |-- result: string (nullable = true)\n",
            " |    |    |-- metadata: map (nullable = true)\n",
            " |    |    |    |-- key: string\n",
            " |    |    |    |-- value: string (valueContainsNull = true)\n",
            " |    |    |-- embeddings: array (nullable = true)\n",
            " |    |    |    |-- element: float (containsNull = false)\n",
            "\n"
          ]
        }
      ],
      "source": [
        "result_bert.printSchema()"
      ]
    },
    {
      "cell_type": "code",
      "execution_count": null,
      "metadata": {
        "id": "EFG9NqNVOSB-"
      },
      "outputs": [],
      "source": [
        "result_df = result_bert.select(F.explode(F.arrays_zip(result_bert.sentence.result,\n",
        "                              result_bert.sentence_bert_embeddings.embeddings)).alias(\"cols\")) \\\n",
        "                              .select(F.expr(\"cols['0']\").alias(\"sentence\"),\n",
        "                                      F.expr(\"cols['1']\").alias(\"Bert_sentence_embeddings\"))\n",
        "result_df.show(truncate=150)"
      ]
    },
    {
      "cell_type": "code",
      "execution_count": null,
      "metadata": {
        "id": "Dlow-jA9LiyC"
      },
      "outputs": [],
      "source": [
        "from pyspark.ml.stat import Summarizer\n",
        "import numpy as np\n",
        "from pyspark.ml.functions import array_to_vector\n",
        "\n",
        "summarizer = Summarizer.metrics(\"mean\", \"count\")\n",
        "\n",
        "vecs = result_df.select(array_to_vector('Bert_sentence_embeddings').alias('vec'))\n",
        "mean = np.array(vecs.select(Summarizer.mean(vecs.vec)).collect()[0][0])"
      ]
    }
  ],
  "metadata": {
    "colab": {
      "provenance": [],
      "include_colab_link": true
    },
    "kernelspec": {
      "display_name": "Python 3",
      "name": "python3"
    },
    "language_info": {
      "name": "python",
      "version": "3.10.12"
    }
  },
  "nbformat": 4,
  "nbformat_minor": 0
}